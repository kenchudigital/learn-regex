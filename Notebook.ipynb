{
 "cells": [
  {
   "cell_type": "code",
   "execution_count": 1,
   "id": "4ef4262e-76b9-4780-adb4-8613d4aed3fb",
   "metadata": {},
   "outputs": [],
   "source": [
    "import re"
   ]
  },
  {
   "cell_type": "raw",
   "id": "653501f6-10ec-4909-ab03-4f7c0539ab9d",
   "metadata": {},
   "source": [
    "r\"string\" 意思是 raw strings - do not process escape sequences (\\n, \\b, etc.) and are thus commonly used for Regex patterns, which often contain a lot of \\ characters."
   ]
  },
  {
   "cell_type": "raw",
   "id": "368ed92e-bca3-406d-8fbf-04df9b12fd6b",
   "metadata": {},
   "source": [
    "一般用 re function 會有3個parameter\n",
    "1. pattern \n",
    "2. string\n",
    "3. flags (有 i, m, s, g)"
   ]
  },
  {
   "cell_type": "code",
   "execution_count": 2,
   "id": "e7d16e44-b687-42c1-9516-3d353964af01",
   "metadata": {},
   "outputs": [],
   "source": [
    "# 常見寫法\n",
    "pattern = re.compile(r\"d\")"
   ]
  },
  {
   "cell_type": "raw",
   "id": "9fdb2e60-e3c6-482a-a097-94e5014b3b5f",
   "metadata": {},
   "source": [
    "但是其實 re.compile 是不需要的。"
   ]
  },
  {
   "cell_type": "code",
   "execution_count": 3,
   "id": "87bcb0bc-aa5f-4e54-b00f-2f6294d447ca",
   "metadata": {},
   "outputs": [],
   "source": [
    "# 常用 Function\n",
    "pattern = r\"something\"\n",
    "string = 'something is something'"
   ]
  },
  {
   "cell_type": "code",
   "execution_count": 4,
   "id": "4a3d1a8b-887a-478b-807c-c29134bc9241",
   "metadata": {},
   "outputs": [
    {
     "data": {
      "text/plain": [
       "<re.Match object; span=(0, 9), match='something'>"
      ]
     },
     "execution_count": 4,
     "metadata": {},
     "output_type": "execute_result"
    }
   ],
   "source": [
    "a = re.match(pattern, string)\n",
    "a"
   ]
  },
  {
   "cell_type": "code",
   "execution_count": 5,
   "id": "d8986129-149b-4294-95e9-b0a50366c1bf",
   "metadata": {},
   "outputs": [
    {
     "name": "stdout",
     "output_type": "stream",
     "text": [
      "['something', 'something']\n"
     ]
    }
   ],
   "source": [
    "a = re.findall(pattern, string)\n",
    "print(a)"
   ]
  },
  {
   "cell_type": "code",
   "execution_count": 6,
   "id": "1a20cb36-02be-439c-97f8-769485d84d15",
   "metadata": {},
   "outputs": [
    {
     "data": {
      "text/plain": [
       "['something', 'something']"
      ]
     },
     "execution_count": 6,
     "metadata": {},
     "output_type": "execute_result"
    }
   ],
   "source": [
    "a = re.finditer(pattern, string)\n",
    "[i.group() for i in a] "
   ]
  },
  {
   "cell_type": "code",
   "execution_count": 7,
   "id": "f2b7d7fb-cf7a-443b-9ae0-f63a971ae6f5",
   "metadata": {},
   "outputs": [
    {
     "name": "stdout",
     "output_type": "stream",
     "text": [
      "something\n"
     ]
    }
   ],
   "source": [
    "a = re.search(pattern, string).group()\n",
    "print(a)"
   ]
  },
  {
   "cell_type": "code",
   "execution_count": 8,
   "id": "fee4f0cc-f5f2-464d-9ee2-53d1aa4edd07",
   "metadata": {},
   "outputs": [
    {
     "name": "stdout",
     "output_type": "stream",
     "text": [
      "something\n"
     ]
    }
   ],
   "source": [
    "a = re.search(pattern, string).group()\n",
    "print(a)"
   ]
  },
  {
   "cell_type": "code",
   "execution_count": 9,
   "id": "201c20b0-7d12-46f9-9438-d09cb8a74471",
   "metadata": {},
   "outputs": [
    {
     "name": "stdout",
     "output_type": "stream",
     "text": [
      "None\n",
      "<re.Match object; span=(6, 12), match='school'>\n"
     ]
    }
   ],
   "source": [
    "string = \"go to school\"\n",
    "pattern = r\"school\"\n",
    "print(re.match(pattern, string, re.IGNORECASE))\n",
    "print(re.search(pattern, string, re.IGNORECASE))"
   ]
  },
  {
   "cell_type": "code",
   "execution_count": 10,
   "id": "034de136-4ecc-4425-b899-e811fc26744f",
   "metadata": {},
   "outputs": [
    {
     "name": "stdout",
     "output_type": "stream",
     "text": [
      "<re.Match object; span=(8, 14), match='school'>\n",
      "None\n"
     ]
    }
   ],
   "source": [
    "\n",
    " Substring ='school'\n",
    " \n",
    " \n",
    "String1 =''' \"go to school\"'''\n",
    "String2 ='''string We are learning regex with geeksforgeeks\n",
    "         regex is very useful for string matching.\n",
    "          It is fast too.'''\n",
    " \n",
    "# Use of re.search() Method\n",
    "print(re.search(Substring, String1, re.IGNORECASE))\n",
    "# Use of re.match() Method\n",
    "print(re.match(Substring, String1, re.IGNORECASE))\n",
    " "
   ]
  },
  {
   "cell_type": "code",
   "execution_count": 11,
   "id": "2085f498-ffa2-4cde-b853-abde0a6cbd05",
   "metadata": {},
   "outputs": [
    {
     "name": "stdout",
     "output_type": "stream",
     "text": [
      "<re.Match object; span=(6, 12), match='school'>\n",
      "None\n"
     ]
    }
   ],
   "source": [
    "string = \"go to school\"\n",
    "pattern = r\"school\"\n",
    "print(re.search(pattern, string)) \n",
    "print(re.match(pattern, string))  "
   ]
  },
  {
   "cell_type": "code",
   "execution_count": 12,
   "id": "085cb8eb-d5cc-40a3-ba58-6909371bb482",
   "metadata": {},
   "outputs": [
    {
     "data": {
      "text/plain": [
       "<re.Match object; span=(32, 38), match='school'>"
      ]
     },
     "execution_count": 12,
     "metadata": {},
     "output_type": "execute_result"
    }
   ],
   "source": [
    "string = '''go \n",
    "            to \n",
    "            school'''\n",
    "pattern = r\"school\"\n",
    "re.search(pattern, string)"
   ]
  },
  {
   "cell_type": "raw",
   "id": "81776d38-e644-4300-9f29-f6d99028b8cf",
   "metadata": {},
   "source": [
    "a = re.search(pattern, string).group()\n",
    "print(a)"
   ]
  },
  {
   "cell_type": "code",
   "execution_count": 13,
   "id": "af1c0d8a-e5cf-45ff-8ff4-beb25c825bf0",
   "metadata": {},
   "outputs": [
    {
     "data": {
      "text/plain": [
       "'1-2,3,4,5'"
      ]
     },
     "execution_count": 13,
     "metadata": {},
     "output_type": "execute_result"
    }
   ],
   "source": [
    "pattern = r\",\"\n",
    "string = \"1,2,3,4,5\"\n",
    "repl = \"-\"\n",
    "count = 1\n",
    "re.sub(pattern, repl, string, count)"
   ]
  },
  {
   "cell_type": "raw",
   "id": "60759c7c-ecb1-4237-a5e7-0d4a94c12498",
   "metadata": {},
   "source": [
    "re.sub(pattern, repl, string, count)； 用於 replace a to b\n",
    "re.split() 用於 split "
   ]
  },
  {
   "cell_type": "raw",
   "id": "3eae18d6-e4ee-49da-a6d2-1c4a1c97609e",
   "metadata": {},
   "source": [
    "flags\n",
    "\n",
    "1).re.I(re.IGNORECASE): 忽略大小写 \n",
    "2).re.M(MULTILINE): 多行模式，改变'^'和'$'的行为 \n",
    "3).re.S(DOTALL): 点任意匹配模式，改变'.'的行为 \n",
    "4).re.L(LOCALE): 使预定字符类 \\w \\W \\b \\B \\s \\S 取决于当前区域设定 \n",
    "5).re.U(UNICODE): 使预定字符类 \\w \\W \\b \\B \\s \\S \\d \\D 取决于unicode定义的字符属性 \n",
    "6).re.X(VERBOSE): 详细模式。这个模式下正则表达式可以是多行，忽略空白字符，并可以加入注释"
   ]
  },
  {
   "cell_type": "raw",
   "id": "ac38e9e7-12c3-46c9-81ba-44478b3ce83b",
   "metadata": {},
   "source": [
    "re.escape() 處理特殊字符"
   ]
  },
  {
   "cell_type": "code",
   "execution_count": 14,
   "id": "1b0fb42a-9578-4e58-854a-77f71147f2ad",
   "metadata": {},
   "outputs": [
    {
     "data": {
      "text/plain": [
       "'\\\\^a\\\\.\\\\*\\\\$'"
      ]
     },
     "execution_count": 14,
     "metadata": {},
     "output_type": "execute_result"
    }
   ],
   "source": [
    "re.escape('^a.*$')"
   ]
  },
  {
   "cell_type": "code",
   "execution_count": 15,
   "id": "9a422a6d-d0f7-41bd-9174-4e7aa50ce123",
   "metadata": {},
   "outputs": [
    {
     "data": {
      "text/plain": [
       "'\\\\\\n'"
      ]
     },
     "execution_count": 15,
     "metadata": {},
     "output_type": "execute_result"
    }
   ],
   "source": [
    "re.escape(\"\\n\")"
   ]
  },
  {
   "cell_type": "code",
   "execution_count": 16,
   "id": "e637d71a-9d83-4726-8fb0-514efed1b089",
   "metadata": {},
   "outputs": [
    {
     "data": {
      "text/plain": [
       "['1', '2', '3', '4', '5']"
      ]
     },
     "execution_count": 16,
     "metadata": {},
     "output_type": "execute_result"
    }
   ],
   "source": [
    "pattern = r\",\"\n",
    "string = \"1,2,3,4,5\"\n",
    "re.split(pattern, string)"
   ]
  },
  {
   "cell_type": "code",
   "execution_count": 17,
   "id": "ae3ebfd3-3ebd-4e6f-aecc-7bdfa14ac84f",
   "metadata": {},
   "outputs": [
    {
     "data": {
      "text/plain": [
       "['1', '2,3,4,5']"
      ]
     },
     "execution_count": 17,
     "metadata": {},
     "output_type": "execute_result"
    }
   ],
   "source": [
    "re.split(pattern, string, maxsplit=1)"
   ]
  },
  {
   "cell_type": "code",
   "execution_count": 18,
   "id": "04c18d55-5a89-48ac-8a41-3f67eb3e6447",
   "metadata": {},
   "outputs": [
    {
     "data": {
      "text/plain": [
       "['a']"
      ]
     },
     "execution_count": 18,
     "metadata": {},
     "output_type": "execute_result"
    }
   ],
   "source": [
    "pattern = r\"a\"\n",
    "string = \"AaBbCcA\"\n",
    "a = re.findall(pattern, string)\n",
    "a"
   ]
  },
  {
   "cell_type": "code",
   "execution_count": 19,
   "id": "7d12aa96-7d68-4b9d-a6cd-94ed7e8653fc",
   "metadata": {},
   "outputs": [],
   "source": [
    "b = re.findall(pattern, string, flags=re.I)"
   ]
  },
  {
   "cell_type": "code",
   "execution_count": 20,
   "id": "9aa835c2-9682-4c50-bcc7-880d23c8b192",
   "metadata": {},
   "outputs": [
    {
     "data": {
      "text/plain": [
       "['A', 'a', 'A']"
      ]
     },
     "execution_count": 20,
     "metadata": {},
     "output_type": "execute_result"
    }
   ],
   "source": [
    "b"
   ]
  },
  {
   "cell_type": "code",
   "execution_count": 25,
   "id": "f4bfd701-1f71-4f90-9bd0-2c42af8d023d",
   "metadata": {},
   "outputs": [
    {
     "data": {
      "text/plain": [
       "['a', 'b', 'c', '1', '2', '3', 'A', 'B', 'C']"
      ]
     },
     "execution_count": 25,
     "metadata": {},
     "output_type": "execute_result"
    }
   ],
   "source": [
    "string = \"abc123ABC\"\n",
    "pattern = f\"[A-Za-z0-9]\"\n",
    "a = re.findall(pattern, string)\n",
    "a"
   ]
  },
  {
   "cell_type": "code",
   "execution_count": 27,
   "id": "bd18105a-b5a8-49b0-9371-37dda9ab2372",
   "metadata": {},
   "outputs": [
    {
     "data": {
      "text/plain": [
       "['1', '2', '3', 'A', 'B', 'C']"
      ]
     },
     "execution_count": 27,
     "metadata": {},
     "output_type": "execute_result"
    }
   ],
   "source": [
    "# 除了 a-z 外\n",
    "pattern = f\"[^a-z]\"\n",
    "a = re.findall(pattern, string)\n",
    "a"
   ]
  },
  {
   "cell_type": "raw",
   "id": "e797add5-aa45-4479-bfc0-b3033feffd16",
   "metadata": {},
   "source": [
    "\\s # 空白字符 (例如：\\t, \\n. \\r. \\f)\n",
    "\\S # 非空白字符"
   ]
  },
  {
   "cell_type": "raw",
   "id": "6d587250-cf1a-47b0-a50f-74517f127c45",
   "metadata": {},
   "source": [
    "^ # 起始點\n",
    "$ # 最後面\n",
    "\\A vs ^\n",
    "\\Z vs $\n",
    "re* \n",
    "re+\n",
    "re?\n",
    "re{n}\n",
    "re{n,}\n",
    "re{n,m}\n",
    "|\n",
    "(...)\n"
   ]
  },
  {
   "cell_type": "code",
   "execution_count": null,
   "id": "4bb07cf1-aa4a-42eb-8242-cff6d5e5aec7",
   "metadata": {},
   "outputs": [],
   "source": []
  }
 ],
 "metadata": {
  "kernelspec": {
   "display_name": "Python 3 (ipykernel)",
   "language": "python",
   "name": "python3"
  },
  "language_info": {
   "codemirror_mode": {
    "name": "ipython",
    "version": 3
   },
   "file_extension": ".py",
   "mimetype": "text/x-python",
   "name": "python",
   "nbconvert_exporter": "python",
   "pygments_lexer": "ipython3",
   "version": "3.9.11"
  }
 },
 "nbformat": 4,
 "nbformat_minor": 5
}
